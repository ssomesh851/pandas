{
 "cells": [
  {
   "cell_type": "code",
   "execution_count": 3,
   "metadata": {},
   "outputs": [
    {
     "name": "stdout",
     "output_type": "stream",
     "text": [
      "       col1      col2      col3\n",
      "0  0.855996  0.503596 -1.544779\n",
      "1 -3.209809 -0.630409  1.478614\n",
      "2  0.408873  1.232586 -0.112460\n",
      "3  0.466347 -0.436086  0.908317\n",
      "0     85.599596\n",
      "1   -320.980927\n",
      "2     40.887279\n",
      "3     46.634674\n",
      "Name: col1, dtype: float64\n",
      "col1   -0.369648\n",
      "col2    0.167422\n",
      "col3    0.182423\n",
      "dtype: float64\n"
     ]
    }
   ],
   "source": [
    "import pandas as pd\n",
    "import numpy as np\n",
    "df = pd.DataFrame(np.random.randn(4,3), columns=['col1','col2','col3'])\n",
    "print(df)\n",
    "print(df['col1'].map(lambda x:x*100))\n",
    "print(df.apply(np.mean))"
   ]
  },
  {
   "cell_type": "code",
   "execution_count": 6,
   "metadata": {},
   "outputs": [
    {
     "name": "stdout",
     "output_type": "stream",
     "text": [
      "       col1      col2      col3\n",
      "0  2.578143 -0.292989  0.187519\n",
      "1 -0.185961 -0.718225 -0.293773\n",
      "2       NaN       NaN       NaN\n",
      "3       NaN       NaN       NaN\n",
      "4       NaN       NaN       NaN\n",
      "5       NaN       NaN       NaN\n",
      "       col1      col2      col3\n",
      "0  2.578143 -0.292989  0.187519\n",
      "1 -0.185961 -0.718225 -0.293773\n",
      "2 -0.185961 -0.718225 -0.293773\n",
      "3 -0.185961 -0.718225 -0.293773\n",
      "4 -0.185961 -0.718225 -0.293773\n",
      "5 -0.185961 -0.718225 -0.293773\n"
     ]
    }
   ],
   "source": [
    "import pandas as pd\n",
    "import numpy as np\n",
    "df = pd.DataFrame(np.random.randn(2,3), columns=['col1','col2','col3'])\n",
    "df1 = pd.DataFrame(np.random.randn(6,3), columns=['col1','col2','col3'])\n",
    "print(df.reindex_like(df1))\n",
    "print(df.reindex_like(df1, method='ffill'))"
   ]
  },
  {
   "cell_type": "code",
   "execution_count": 8,
   "metadata": {},
   "outputs": [
    {
     "name": "stdout",
     "output_type": "stream",
     "text": [
      "       col1      col2      col3\n",
      "0  0.317659 -0.975165  0.051221\n",
      "1 -0.741170 -2.128843 -1.698389\n",
      "2       NaN       NaN       NaN\n",
      "3       NaN       NaN       NaN\n",
      "4       NaN       NaN       NaN\n",
      "5       NaN       NaN       NaN\n",
      "       col1      col2      col3\n",
      "0  0.317659 -0.975165  0.051221\n",
      "1 -0.741170 -2.128843 -1.698389\n",
      "2 -0.741170 -2.128843 -1.698389\n",
      "3 -0.741170 -2.128843 -1.698389\n",
      "4 -0.741170 -2.128843 -1.698389\n",
      "5 -0.741170 -2.128843 -1.698389\n"
     ]
    }
   ],
   "source": [
    "import pandas as pd\n",
    "import numpy as np\n",
    "df = pd.DataFrame(np.random.randn(2,3), columns=['col1','col2','col3'])\n",
    "df1 = pd.DataFrame(np.random.randn(6,3), columns=['col1','col2','col3'])\n",
    "print(df.reindex_like(df1))\n",
    "print(df.reindex_like(df1, method='nearest'))"
   ]
  },
  {
   "cell_type": "code",
   "execution_count": 9,
   "metadata": {},
   "outputs": [
    {
     "name": "stdout",
     "output_type": "stream",
     "text": [
      "       col1      col2      col3\n",
      "0 -0.412629 -0.326345 -0.473287\n",
      "1  0.527306 -0.335745  1.252306\n",
      "2       NaN       NaN       NaN\n",
      "3       NaN       NaN       NaN\n",
      "4       NaN       NaN       NaN\n",
      "5       NaN       NaN       NaN\n",
      "       col1      col2      col3\n",
      "0 -0.412629 -0.326345 -0.473287\n",
      "1  0.527306 -0.335745  1.252306\n",
      "2  0.527306 -0.335745  1.252306\n",
      "3       NaN       NaN       NaN\n",
      "4       NaN       NaN       NaN\n",
      "5       NaN       NaN       NaN\n"
     ]
    }
   ],
   "source": [
    "import pandas as pd\n",
    "import numpy as np\n",
    "df = pd.DataFrame(np.random.randn(2,3), columns=['col1','col2','col3'])\n",
    "df1 = pd.DataFrame(np.random.randn(6,3), columns=['col1','col2','col3'])\n",
    "print(df.reindex_like(df1))\n",
    "print(df.reindex_like(df1, method='ffill', limit=1))"
   ]
  },
  {
   "cell_type": "code",
   "execution_count": 15,
   "metadata": {},
   "outputs": [
    {
     "name": "stdout",
     "output_type": "stream",
     "text": [
      "         c1        c2        c3\n",
      "0 -2.008184  0.729186  1.520186\n",
      "1  0.161181 -0.227607  0.302662\n",
      "2  0.850871 -0.995178  0.078329\n",
      "3  0.770489 -0.654912  0.854039\n"
     ]
    }
   ],
   "source": [
    "#renaming\n",
    "import pandas as pd\n",
    "import numpy as np\n",
    "df = pd.DataFrame(np.random.randn(4,3),columns=['col1','col2','col3'])\n",
    "df1 = df.rename(columns={'col1':'c1','col2':'c2','col3':'c3'})\n",
    "print(df1)\n",
    "\n"
   ]
  },
  {
   "cell_type": "code",
   "execution_count": 18,
   "metadata": {},
   "outputs": [
    {
     "name": "stdout",
     "output_type": "stream",
     "text": [
      "col1 0   -0.326507\n",
      "1    0.167991\n",
      "2    0.620884\n",
      "3    2.057859\n",
      "Name: col1, dtype: float64\n",
      "col2 0   -1.261034\n",
      "1   -1.055546\n",
      "2    0.124450\n",
      "3    1.017000\n",
      "Name: col2, dtype: float64\n",
      "col3 0   -1.178202\n",
      "1    0.244753\n",
      "2    0.290211\n",
      "3    1.031996\n",
      "Name: col3, dtype: float64\n"
     ]
    }
   ],
   "source": [
    "df = pd.DataFrame(np.random.randn(4,3), columns=['col1','col2','col3'])\n",
    "for key,value in df.iteritems():\n",
    "    print(key,value)"
   ]
  },
  {
   "cell_type": "code",
   "execution_count": 21,
   "metadata": {},
   "outputs": [
    {
     "name": "stdout",
     "output_type": "stream",
     "text": [
      "0 col1    0.264244\n",
      "col2    0.968143\n",
      "col3    1.859559\n",
      "Name: 0, dtype: float64\n",
      "1 col1    0.471331\n",
      "col2   -0.412525\n",
      "col3    1.274632\n",
      "Name: 1, dtype: float64\n",
      "2 col1    0.282245\n",
      "col2   -1.002690\n",
      "col3    0.273896\n",
      "Name: 2, dtype: float64\n",
      "3 col1    0.791645\n",
      "col2    0.537883\n",
      "col3    1.323388\n",
      "Name: 3, dtype: float64\n"
     ]
    }
   ],
   "source": [
    "df = pd.DataFrame(np.random.randn(4,3), columns=['col1','col2','col3'])\n",
    "for row_index,row in df.iterrows():\n",
    "    print(row_index,row)"
   ]
  },
  {
   "cell_type": "code",
   "execution_count": 22,
   "metadata": {},
   "outputs": [
    {
     "name": "stdout",
     "output_type": "stream",
     "text": [
      "Pandas(Index=0, col1=0.4955690899048487, col2=0.048218055561426706, col3=1.535321145348925)\n",
      "Pandas(Index=1, col1=-1.055684016955001, col2=-0.16247573246068558, col3=0.5064582955991666)\n",
      "Pandas(Index=2, col1=1.3453313744058049, col2=0.539121266083893, col3=-0.31550657261775966)\n",
      "Pandas(Index=3, col1=-0.25120995835729265, col2=1.675849507196769, col3=2.176995378489221)\n"
     ]
    }
   ],
   "source": [
    "df = pd.DataFrame(np.random.randn(4,3), columns=['col1','col2','col3'])\n",
    "for row in df.itertuples():\n",
    "    print(row)"
   ]
  },
  {
   "cell_type": "code",
   "execution_count": 27,
   "metadata": {},
   "outputs": [
    {
     "name": "stdout",
     "output_type": "stream",
     "text": [
      "       col1      col2\n",
      "1  1.656009  1.468291\n",
      "4 -0.788870 -1.409348\n",
      "3  0.947524  1.077036\n",
      "2 -1.063973  0.207747\n",
      "0 -0.724432 -0.169267\n",
      "7 -0.187447 -1.037011\n",
      "       col1      col2\n",
      "0 -0.724432 -0.169267\n",
      "1  1.656009  1.468291\n",
      "2 -1.063973  0.207747\n",
      "3  0.947524  1.077036\n",
      "4 -0.788870 -1.409348\n",
      "7 -0.187447 -1.037011\n"
     ]
    }
   ],
   "source": [
    "#sorting\n",
    "import pandas as pd\n",
    "import numpy as np\n",
    "unsorted_df = pd.DataFrame(np.random.randn(6,2), index=[1,4,3,2,0,7], columns=['col1','col2'])\n",
    "print(unsorted_df)\n",
    "sorted_df = unsorted_df.sort_index()\n",
    "print(sorted_df)\n"
   ]
  },
  {
   "cell_type": "code",
   "execution_count": 28,
   "metadata": {},
   "outputs": [
    {
     "name": "stdout",
     "output_type": "stream",
     "text": [
      "       col1      col2\n",
      "1  0.599302  0.490561\n",
      "4  0.183269 -1.529386\n",
      "3 -0.796565  0.460051\n",
      "2 -0.190730  0.142723\n",
      "0 -0.156043 -0.775975\n",
      "7  0.463116  0.801784\n",
      "       col1      col2\n",
      "7  0.463116  0.801784\n",
      "4  0.183269 -1.529386\n",
      "3 -0.796565  0.460051\n",
      "2 -0.190730  0.142723\n",
      "1  0.599302  0.490561\n",
      "0 -0.156043 -0.775975\n"
     ]
    }
   ],
   "source": [
    "import pandas as pd\n",
    "import numpy as np\n",
    "unsorted_df = pd.DataFrame(np.random.randn(6,2), index=[1,4,3,2,0,7], columns=['col1','col2'])\n",
    "print(unsorted_df)\n",
    "sorted_df = unsorted_df.sort_index(ascending=False)\n",
    "print(sorted_df)\n"
   ]
  },
  {
   "cell_type": "code",
   "execution_count": 29,
   "metadata": {},
   "outputs": [
    {
     "name": "stdout",
     "output_type": "stream",
     "text": [
      "       col2      col1\n",
      "1 -0.423794  0.666554\n",
      "4  0.477945  1.205539\n",
      "3  0.982513 -1.137445\n",
      "2 -1.504439  2.865818\n",
      "0  0.191565 -3.452501\n",
      "7 -0.422712  0.111000\n",
      "       col1      col2\n",
      "1  0.666554 -0.423794\n",
      "4  1.205539  0.477945\n",
      "3 -1.137445  0.982513\n",
      "2  2.865818 -1.504439\n",
      "0 -3.452501  0.191565\n",
      "7  0.111000 -0.422712\n"
     ]
    }
   ],
   "source": [
    "#sorting the columns\n",
    "import pandas as pd\n",
    "import numpy as np\n",
    "unsorted_df = pd.DataFrame(np.random.randn(6,2), index=[1,4,3,2,0,7], columns=['col2','col1'])\n",
    "print(unsorted_df)\n",
    "sorted_df = unsorted_df.sort_index(axis=1)\n",
    "print(sorted_df)\n"
   ]
  },
  {
   "cell_type": "code",
   "execution_count": 38,
   "metadata": {},
   "outputs": [
    {
     "name": "stdout",
     "output_type": "stream",
     "text": [
      "       col1      col2\n",
      "1  0.985326  0.838594\n",
      "4  2.040818 -0.968552\n",
      "3  0.098138 -0.002425\n",
      "2 -0.153320  0.603951\n",
      "0  0.223309 -2.329711\n",
      "7  0.051872 -0.572422\n",
      "       col1      col2\n",
      "0  0.223309 -2.329711\n",
      "1  0.985326  0.838594\n",
      "2 -0.153320  0.603951\n",
      "3  0.098138 -0.002425\n",
      "4  2.040818 -0.968552\n",
      "7  0.051872 -0.572422\n"
     ]
    }
   ],
   "source": [
    "#sorting the rows\n",
    "import pandas as pd\n",
    "import numpy as np\n",
    "unsorted_df = pd.DataFrame(np.random.randn(6,2), index=[1,4,3,2,0,7], columns=['col1','col2'])\n",
    "print(unsorted_df)\n",
    "sorted_df = unsorted_df.sort_index(axis=0)\n",
    "print(sorted_df)\n"
   ]
  },
  {
   "cell_type": "code",
   "execution_count": 42,
   "metadata": {},
   "outputs": [
    {
     "name": "stdout",
     "output_type": "stream",
     "text": [
      "   col1  col2\n",
      "1     0     1\n",
      "2     1     4\n",
      "0     2     9\n"
     ]
    }
   ],
   "source": [
    "#sorting the values\n",
    "import pandas as pd\n",
    "import numpy as np\n",
    "unsorted_df = pd.DataFrame({'col1':[2,0,1],'col2':[9,1,4]})\n",
    "sorted_df = unsorted_df.sort_values(by=['col1','col2'])\n",
    "print(sorted_df)"
   ]
  },
  {
   "cell_type": "code",
   "execution_count": 43,
   "metadata": {},
   "outputs": [
    {
     "name": "stdout",
     "output_type": "stream",
     "text": [
      "0             Tom\n",
      "1    william rick\n",
      "2            john\n",
      "3        albert@t\n",
      "4             NaN\n",
      "5            1234\n",
      "6       stevsmith\n",
      "dtype: object\n"
     ]
    }
   ],
   "source": [
    "#working with the text data by using diiferent common string functions\n",
    "import pandas as pd\n",
    "import numpy as np\n",
    "df = pd.Series(['Tom','william rick','john','albert@t', np.nan,'1234','stevsmith'])\n",
    "print(df)\n"
   ]
  },
  {
   "cell_type": "code",
   "execution_count": 47,
   "metadata": {},
   "outputs": [
    {
     "name": "stdout",
     "output_type": "stream",
     "text": [
      "0             tom\n",
      "1    william rick\n",
      "2            john\n",
      "3        albert@t\n",
      "4             NaN\n",
      "5            1234\n",
      "6       stevsmith\n",
      "dtype: object\n",
      "0             TOM\n",
      "1    WILLIAM RICK\n",
      "2            JOHN\n",
      "3        ALBERT@T\n",
      "4             NaN\n",
      "5            1234\n",
      "6       STEVSMITH\n",
      "dtype: object\n",
      "0     3.0\n",
      "1    12.0\n",
      "2     4.0\n",
      "3     8.0\n",
      "4     NaN\n",
      "5     4.0\n",
      "6     9.0\n",
      "dtype: float64\n"
     ]
    }
   ],
   "source": [
    "#lower\n",
    "print(df.str.lower())\n",
    "print(df.str.upper())\n",
    "print(df.str.len())"
   ]
  },
  {
   "cell_type": "code",
   "execution_count": 51,
   "metadata": {},
   "outputs": [
    {
     "name": "stdout",
     "output_type": "stream",
     "text": [
      "0         Tom\n",
      "1    mammooty\n",
      "2      mahesh\n",
      "dtype: object\n",
      "0         Tom\n",
      "1    mammooty\n",
      "2      mahesh\n",
      "dtype: object\n"
     ]
    }
   ],
   "source": [
    "#strip\n",
    "s = pd.Series(['Tom',  'mammooty',    'mahesh'])\n",
    "print(s)\n",
    "print(s.str.strip())"
   ]
  },
  {
   "cell_type": "code",
   "execution_count": 53,
   "metadata": {},
   "outputs": [
    {
     "name": "stdout",
     "output_type": "stream",
     "text": [
      "0         [Tom]\n",
      "1    [mammooty]\n",
      "2      [mahesh]\n",
      "dtype: object\n"
     ]
    }
   ],
   "source": [
    "#split\n",
    "print(s.str.split(' '))"
   ]
  },
  {
   "cell_type": "code",
   "execution_count": 54,
   "metadata": {},
   "outputs": [
    {
     "name": "stdout",
     "output_type": "stream",
     "text": [
      "Tom_mammooty_mahesh\n"
     ]
    }
   ],
   "source": [
    "#cat(sep=pattern)\n",
    "print(s.str.cat(sep='_'))"
   ]
  },
  {
   "cell_type": "code",
   "execution_count": 55,
   "metadata": {},
   "outputs": [
    {
     "name": "stdout",
     "output_type": "stream",
     "text": [
      "   Tom  mahesh  mammooty\n",
      "0    1       0         0\n",
      "1    0       0         1\n",
      "2    0       1         0\n"
     ]
    }
   ],
   "source": [
    "#getdummies\n",
    "print(s.str.get_dummies())"
   ]
  },
  {
   "cell_type": "code",
   "execution_count": 57,
   "metadata": {},
   "outputs": [
    {
     "name": "stdout",
     "output_type": "stream",
     "text": [
      "0    False\n",
      "1    False\n",
      "2    False\n",
      "dtype: bool\n"
     ]
    }
   ],
   "source": [
    "#contains\n",
    "print(s.str.contains(' '))"
   ]
  },
  {
   "cell_type": "code",
   "execution_count": 60,
   "metadata": {},
   "outputs": [
    {
     "name": "stdout",
     "output_type": "stream",
     "text": [
      "0         Som\n",
      "1    mammooty\n",
      "2      mahesh\n",
      "dtype: object\n"
     ]
    }
   ],
   "source": [
    "#replace(a,b)\n",
    "print(s.str.replace('T','S'))"
   ]
  },
  {
   "cell_type": "code",
   "execution_count": 61,
   "metadata": {},
   "outputs": [
    {
     "name": "stdout",
     "output_type": "stream",
     "text": [
      "0              TomTom\n",
      "1    mammootymammooty\n",
      "2        maheshmahesh\n",
      "dtype: object\n"
     ]
    }
   ],
   "source": [
    "#repeat\n",
    "print(s.str.repeat(2))"
   ]
  },
  {
   "cell_type": "code",
   "execution_count": 62,
   "metadata": {},
   "outputs": [
    {
     "name": "stdout",
     "output_type": "stream",
     "text": [
      "0    0\n",
      "1    0\n",
      "2    1\n",
      "dtype: int64\n"
     ]
    }
   ],
   "source": [
    "#count(pattern)\n",
    "print(s.str.count('s'))"
   ]
  },
  {
   "cell_type": "code",
   "execution_count": 63,
   "metadata": {},
   "outputs": [
    {
     "name": "stdout",
     "output_type": "stream",
     "text": [
      "0     True\n",
      "1    False\n",
      "2    False\n",
      "dtype: bool\n"
     ]
    }
   ],
   "source": [
    "#startswith(pattern)\n",
    "print(s.str.startswith('T'))"
   ]
  },
  {
   "cell_type": "code",
   "execution_count": 64,
   "metadata": {},
   "outputs": [
    {
     "name": "stdout",
     "output_type": "stream",
     "text": [
      "0    False\n",
      "1    False\n",
      "2    False\n",
      "dtype: bool\n"
     ]
    }
   ],
   "source": [
    "#endswith\n",
    "print(s.str.endswith('s'))"
   ]
  },
  {
   "cell_type": "code",
   "execution_count": 65,
   "metadata": {},
   "outputs": [
    {
     "name": "stdout",
     "output_type": "stream",
     "text": [
      "0   -1\n",
      "1   -1\n",
      "2    4\n",
      "dtype: int64\n"
     ]
    }
   ],
   "source": [
    "#find(pattern)\n",
    "print(s.str.find('s'))"
   ]
  },
  {
   "cell_type": "code",
   "execution_count": 66,
   "metadata": {},
   "outputs": [
    {
     "name": "stdout",
     "output_type": "stream",
     "text": [
      "0     []\n",
      "1     []\n",
      "2    [e]\n",
      "dtype: object\n"
     ]
    }
   ],
   "source": [
    "#findall(pattern)\n",
    "print(s.str.findall('e'))"
   ]
  },
  {
   "cell_type": "code",
   "execution_count": 67,
   "metadata": {},
   "outputs": [
    {
     "name": "stdout",
     "output_type": "stream",
     "text": [
      "0         tOM\n",
      "1    MAMMOOTY\n",
      "2      MAHESH\n",
      "dtype: object\n"
     ]
    }
   ],
   "source": [
    "#swapcase\n",
    "print(s.str.swapcase())"
   ]
  },
  {
   "cell_type": "code",
   "execution_count": null,
   "metadata": {},
   "outputs": [],
   "source": []
  }
 ],
 "metadata": {
  "kernelspec": {
   "display_name": "Python 3",
   "language": "python",
   "name": "python3"
  },
  "language_info": {
   "codemirror_mode": {
    "name": "ipython",
    "version": 3
   },
   "file_extension": ".py",
   "mimetype": "text/x-python",
   "name": "python",
   "nbconvert_exporter": "python",
   "pygments_lexer": "ipython3",
   "version": "3.6.5"
  }
 },
 "nbformat": 4,
 "nbformat_minor": 2
}
