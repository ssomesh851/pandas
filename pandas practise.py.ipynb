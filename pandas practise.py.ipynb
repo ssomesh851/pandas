{
 "cells": [
  {
   "cell_type": "code",
   "execution_count": 5,
   "metadata": {},
   "outputs": [
    {
     "name": "stdout",
     "output_type": "stream",
     "text": [
      "0.23.0\n",
      "{'system': {'commit': None, 'python': '3.6.5.final.0', 'python-bits': 64, 'OS': 'Windows', 'OS-release': '10', 'machine': 'AMD64', 'processor': 'Intel64 Family 6 Model 78 Stepping 3, GenuineIntel', 'byteorder': 'little', 'LC_ALL': 'None', 'LANG': 'None', 'LOCALE': 'None.None'}, 'dependencies': {'pandas': '0.23.0', 'pytest': '3.5.1', 'pip': '10.0.1', 'setuptools': '39.1.0', 'Cython': '0.28.2', 'numpy': '1.14.3', 'scipy': '1.1.0', 'pyarrow': None, 'xarray': None, 'IPython': '6.4.0', 'sphinx': '1.7.4', 'patsy': '0.5.0', 'dateutil': '2.7.3', 'pytz': '2018.4', 'blosc': None, 'bottleneck': '1.2.1', 'tables': '3.4.3', 'numexpr': '2.6.5', 'feather': None, 'matplotlib': '2.2.2', 'openpyxl': '2.5.3', 'xlrd': '1.1.0', 'xlwt': '1.3.0', 'xlsxwriter': '1.0.4', 'lxml': '4.2.1', 'bs4': '4.6.0', 'html5lib': '1.0.1', 'sqlalchemy': '1.2.7', 'pymysql': None, 'psycopg2': None, 'jinja2': '2.10', 's3fs': None, 'fastparquet': None, 'pandas_gbq': None, 'pandas_datareader': None}}\n",
      "None\n"
     ]
    }
   ],
   "source": [
    "import pandas as pd\n",
    "print(pd.__version__)\n",
    "print(pd.show_versions(as_json=True))\n"
   ]
  },
  {
   "cell_type": "code",
   "execution_count": 8,
   "metadata": {},
   "outputs": [
    {
     "name": "stdout",
     "output_type": "stream",
     "text": [
      "0    a\n",
      "1    b\n",
      "2    c\n",
      "3    d\n",
      "4    e\n",
      "dtype: object\n",
      "0    0\n",
      "1    1\n",
      "2    2\n",
      "3    3\n",
      "4    4\n",
      "dtype: int32\n",
      "a    0\n",
      "b    1\n",
      "c    2\n",
      "d    3\n",
      "e    4\n",
      "dtype: int64\n"
     ]
    }
   ],
   "source": [
    "#How to create a series from a list, numpy array and dict?\n",
    "import pandas as pd\n",
    "import numpy as np\n",
    "mylist = list('abcdefghijklmnopqrstuvwxyz')\n",
    "myarr = np.arange(26)\n",
    "mydict = dict(zip(mylist, myarr))\n",
    "l = pd.Series(mylist)\n",
    "print(l.head(5))\n",
    "arr = pd.Series(myarr)\n",
    "print(arr.head(5))\n",
    "d = pd.Series(mydict)\n",
    "print(d.head(5))"
   ]
  },
  {
   "cell_type": "code",
   "execution_count": 15,
   "metadata": {},
   "outputs": [
    {
     "name": "stdout",
     "output_type": "stream",
     "text": [
      "  index  0\n",
      "0     a  0\n",
      "1     b  1\n",
      "2     c  2\n",
      "3     d  3\n",
      "4     e  4\n"
     ]
    }
   ],
   "source": [
    "#How to convert the index of a series into a column of a dataframe?\n",
    "import pandas as pd\n",
    "import numpy as np\n",
    "mylist = list('abcdefghijklmnopqrstuvwxyz')\n",
    "arr = np.arange(26)\n",
    "mydict = dict(zip(mylist, arr))\n",
    "ser = pd.Series(mydict)\n",
    "df = ser.to_frame().reset_index()\n",
    "print(df.head())"
   ]
  },
  {
   "cell_type": "code",
   "execution_count": 17,
   "metadata": {},
   "outputs": [
    {
     "name": "stdout",
     "output_type": "stream",
     "text": [
      "   0  1\n",
      "0  a  0\n",
      "1  b  1\n",
      "2  c  2\n",
      "3  d  3\n",
      "4  e  4\n",
      "  col1  col2\n",
      "0    a     0\n",
      "1    b     1\n",
      "2    c     2\n",
      "3    d     3\n",
      "4    e     4\n"
     ]
    }
   ],
   "source": [
    "#How to combine many series to form a dataframe?\n",
    "import numpy as np\n",
    "ser1 = pd.Series(list('abcdefghijklmnopqrstuvwxyz'))\n",
    "ser2 = pd.Series(np.arange(26))\n",
    "df1 = pd.concat([ser1 ,ser2], axis=1)\n",
    "print(df1.head(5))\n",
    "df2 = pd.DataFrame({'col1':ser1, 'col2':ser2})\n",
    "print(df2.head(5))"
   ]
  },
  {
   "cell_type": "code",
   "execution_count": 22,
   "metadata": {},
   "outputs": [
    {
     "data": {
      "text/plain": [
       "a    0\n",
       "b    1\n",
       "c    2\n",
       "d    3\n",
       "e    4\n",
       "Name: alphabets, dtype: int32"
      ]
     },
     "execution_count": 22,
     "metadata": {},
     "output_type": "execute_result"
    }
   ],
   "source": [
    "#How to assign name to the series’ index?\n",
    "import pandas as pd\n",
    "import numpy as np\n",
    "ser = pd.Series(np.arange(6), index=['a','b','c','d','e','f'])\n",
    "ser.name = 'alphabets'\n",
    "ser.head(5)"
   ]
  },
  {
   "cell_type": "code",
   "execution_count": 23,
   "metadata": {},
   "outputs": [
    {
     "data": {
      "text/plain": [
       "0    1\n",
       "1    2\n",
       "2    3\n",
       "3    4\n",
       "dtype: int64"
      ]
     },
     "execution_count": 23,
     "metadata": {},
     "output_type": "execute_result"
    }
   ],
   "source": [
    "#How to get the items of series A not present in series B?\n",
    "import pandas as pd\n",
    "import numpy as np\n",
    "ser1 = pd.Series([1,2,3,4])\n",
    "ser2 = pd.Series([5,6,7,8])\n",
    "ser1[~ser1.isin(ser2)]\n"
   ]
  },
  {
   "cell_type": "code",
   "execution_count": 33,
   "metadata": {},
   "outputs": [
    {
     "data": {
      "text/plain": [
       "0    1\n",
       "2    3\n",
       "3    4\n",
       "4    5\n",
       "5    7\n",
       "6    8\n",
       "dtype: int64"
      ]
     },
     "execution_count": 33,
     "metadata": {},
     "output_type": "execute_result"
    }
   ],
   "source": [
    "#How to get the items not common to both series A and series B?\n",
    "import pandas as pd\n",
    "import numpy as np\n",
    "a = pd.Series([1, 2, 3, 4])\n",
    "b = pd.Series([5, 2, 7, 8])\n",
    "ser_u = pd.Series(np.union1d(a ,b))\n",
    "ser_i = pd.Series(np.intersect1d(a,b))\n",
    "ser_u[~ser_u.isin(ser_i)]\n"
   ]
  },
  {
   "cell_type": "code",
   "execution_count": 34,
   "metadata": {},
   "outputs": [
    {
     "name": "stdout",
     "output_type": "stream",
     "text": [
      "0    2\n",
      "dtype: int64\n"
     ]
    }
   ],
   "source": [
    "ser_i = pd.Series(np.intersect1d(a,b))\n",
    "print(ser_i)"
   ]
  },
  {
   "cell_type": "code",
   "execution_count": 43,
   "metadata": {},
   "outputs": [
    {
     "data": {
      "text/plain": [
       "array([ 1.25117263,  7.70986507, 10.92259345, 13.36360403, 18.0949083 ])"
      ]
     },
     "execution_count": 43,
     "metadata": {},
     "output_type": "execute_result"
    }
   ],
   "source": [
    "# How to get the minimum, 25th percentile, median, 75th, and max of a numeric series?\n",
    "import pandas as pd\n",
    "import numpy as np\n",
    "arr = np.random.RandomState(100)\n",
    "ser = pd.Series(arr.normal(10,5,25))\n",
    "\n",
    "np.percentile(ser, q=[0, 25, 50, 75, 100])\n",
    "\n"
   ]
  },
  {
   "cell_type": "code",
   "execution_count": 50,
   "metadata": {},
   "outputs": [
    {
     "data": {
      "text/plain": [
       "b    6\n",
       "a    5\n",
       "h    5\n",
       "f    4\n",
       "c    3\n",
       "e    3\n",
       "g    2\n",
       "d    2\n",
       "dtype: int64"
      ]
     },
     "execution_count": 50,
     "metadata": {},
     "output_type": "execute_result"
    }
   ],
   "source": [
    "#How to get frequency counts of unique items of a series?\n",
    "\n",
    "ser = pd.Series(np.take(list('abcdefgh'), np.random.randint(8, size=30)))\n",
    "ser.value_counts()"
   ]
  },
  {
   "cell_type": "code",
   "execution_count": null,
   "metadata": {},
   "outputs": [],
   "source": []
  }
 ],
 "metadata": {
  "kernelspec": {
   "display_name": "Python 3",
   "language": "python",
   "name": "python3"
  },
  "language_info": {
   "codemirror_mode": {
    "name": "ipython",
    "version": 3
   },
   "file_extension": ".py",
   "mimetype": "text/x-python",
   "name": "python",
   "nbconvert_exporter": "python",
   "pygments_lexer": "ipython3",
   "version": "3.6.5"
  }
 },
 "nbformat": 4,
 "nbformat_minor": 2
}
