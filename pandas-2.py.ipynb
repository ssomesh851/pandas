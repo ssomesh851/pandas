{
 "cells": [
  {
   "cell_type": "code",
   "execution_count": 4,
   "metadata": {},
   "outputs": [
    {
     "name": "stdout",
     "output_type": "stream",
     "text": [
      "0   2010-01-01\n",
      "1   2001-02-12\n",
      "2   2015-02-20\n",
      "3   2018-02-25\n",
      "dtype: datetime64[ns]\n"
     ]
    }
   ],
   "source": [
    "# How to convert a series of date-strings to a timeseries?\n",
    "import pandas as pd\n",
    "import numpy as np\n",
    "from dateutil.parser import parse\n",
    "ser = pd.Series(['01 jan 2010','02-12-2001','20/02/2015','02-25-2018'])\n",
    "print(pd.to_datetime(ser))"
   ]
  },
  {
   "cell_type": "code",
   "execution_count": 10,
   "metadata": {},
   "outputs": [
    {
     "name": "stdout",
     "output_type": "stream",
     "text": [
      "Date [1, 12, 20, 25]\n",
      "week number [53, 7, 8, 8]\n",
      "day of week [4, 0, 4, 6]\n"
     ]
    }
   ],
   "source": [
    "#finding day of month,week nunber\n",
    "ser_ts = ser.map(lambda x:parse(x))\n",
    "print('Date',ser_ts.dt.day.tolist())\n",
    "print('week number',ser_ts.dt.weekofyear.tolist())\n",
    "print('day of week',ser_ts.dt.dayofweek.tolist())"
   ]
  },
  {
   "cell_type": "code",
   "execution_count": 11,
   "metadata": {},
   "outputs": [
    {
     "data": {
      "text/plain": [
       "0   2010-01-04\n",
       "1   2011-02-04\n",
       "2   2013-03-04\n",
       "dtype: datetime64[ns]"
      ]
     },
     "execution_count": 11,
     "metadata": {},
     "output_type": "execute_result"
    }
   ],
   "source": [
    "#How to convert year-month string to dates corresponding to the 4th day of the month?\n",
    "ser = pd.Series(['jan 2010','feb 2011','march 2013'])\n",
    "par = ser.map(lambda x:parse('04'+x))\n",
    "par"
   ]
  },
  {
   "cell_type": "code",
   "execution_count": 12,
   "metadata": {},
   "outputs": [
    {
     "data": {
      "text/plain": [
       "0   2014-02-17\n",
       "1   2015-03-17\n",
       "dtype: datetime64[ns]"
      ]
     },
     "execution_count": 12,
     "metadata": {},
     "output_type": "execute_result"
    }
   ],
   "source": [
    "ser = pd.Series(['feb 2014','march 2015'])\n",
    "par = ser.map(lambda x:parse(x))\n",
    "par"
   ]
  }
 ],
 "metadata": {
  "kernelspec": {
   "display_name": "Python 3",
   "language": "python",
   "name": "python3"
  },
  "language_info": {
   "codemirror_mode": {
    "name": "ipython",
    "version": 3
   },
   "file_extension": ".py",
   "mimetype": "text/x-python",
   "name": "python",
   "nbconvert_exporter": "python",
   "pygments_lexer": "ipython3",
   "version": "3.6.5"
  }
 },
 "nbformat": 4,
 "nbformat_minor": 2
}
